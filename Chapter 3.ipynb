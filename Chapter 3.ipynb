{
 "cells": [
  {
   "cell_type": "code",
   "execution_count": 1,
   "id": "ecc84726-e7c3-4603-a7d6-da5eb4f4f935",
   "metadata": {},
   "outputs": [],
   "source": [
    "def printme(message):\n",
    "    \"This function prints whatever it is inside it\"\n",
    "    \n",
    "    print(message)"
   ]
  },
  {
   "cell_type": "code",
   "execution_count": 2,
   "id": "e0b7e1b2-e555-4f6d-b864-554d2cfce96b",
   "metadata": {},
   "outputs": [
    {
     "name": "stdout",
     "output_type": "stream",
     "text": [
      "Thank God It's Friday\n"
     ]
    }
   ],
   "source": [
    "printme(\"Thank God It's Friday\")"
   ]
  },
  {
   "cell_type": "code",
   "execution_count": 3,
   "id": "741380ff-06e9-438c-90d5-327d96eb8f37",
   "metadata": {},
   "outputs": [],
   "source": [
    "def changeme(mylist): \n",
    "    \"This changes a passed list\"\n",
    "    mylist = [1, 2, 3, 4]\n",
    "    print(\"Values that are inside mylist \" + str(mylist))  \n",
    "    return mylist"
   ]
  },
  {
   "cell_type": "code",
   "execution_count": 4,
   "id": "b36fa868-8035-4566-8d91-d634f0c21d3b",
   "metadata": {},
   "outputs": [
    {
     "name": "stdout",
     "output_type": "stream",
     "text": [
      "Original mylist values:  [10, 20, 30]\n",
      "Values that are inside mylist [1, 2, 3, 4]\n",
      "Values that are outside changeme [1, 2, 3, 4]\n"
     ]
    }
   ],
   "source": [
    "mylist = [10,20,30]\n",
    "print(\"Original mylist values: \", mylist)\n",
    "\n",
    "mylist = changeme(mylist)\n",
    "\n",
    "print(\"Values that are outside changeme \" + str(mylist))"
   ]
  },
  {
   "cell_type": "code",
   "execution_count": 5,
   "id": "a1d995b7-6fac-4eef-af37-76612b16afaf",
   "metadata": {},
   "outputs": [],
   "source": [
    "sum = lambda x, y, z: x+y+z\n",
    "sub = lambda x, y: x-y\n",
    "mul = lambda x, y: x*y\n",
    "div = lambda x, y: x/y"
   ]
  },
  {
   "cell_type": "code",
   "execution_count": 6,
   "id": "11738c3c-84f8-4801-ad68-ab02ff7e41b4",
   "metadata": {},
   "outputs": [
    {
     "name": "stdout",
     "output_type": "stream",
     "text": [
      "Total of 100, 50 and 300 is 450\n",
      "100 minus 50 is 50\n",
      "100 multiply 50 is 5000\n",
      "100 divide by 50 is 2.0\n"
     ]
    }
   ],
   "source": [
    "print(\"Total of 100, 50 and 300 is\", sum(100, 50, 300))\n",
    "print(\"100 minus 50 is\", sub(100, 50))\n",
    "print(\"100 multiply 50 is\", mul(100, 50))\n",
    "print(\"100 divide by 50 is\", div(100, 50))"
   ]
  },
  {
   "cell_type": "code",
   "execution_count": 7,
   "id": "dc1a3865-5913-43ee-8d41-e2868ffaae2e",
   "metadata": {},
   "outputs": [],
   "source": [
    "# The Lottery Exercise\n",
    "from random import randint\n",
    "\n",
    "def generate_number(minimum, maximum=10, draw_length=5):\n",
    "    lottery_num = []\n",
    "    \n",
    "    while len(lottery_num) < draw_length:\n",
    "        randos = randint(minimum, maximum)\n",
    "    \n",
    "        if randos not in lottery_num:\n",
    "            lottery_num.append(randos)\n",
    "            \n",
    "    return lottery_num"
   ]
  },
  {
   "cell_type": "code",
   "execution_count": 8,
   "id": "6adf76d5-197b-47d5-87aa-b3378e8daef0",
   "metadata": {},
   "outputs": [
    {
     "data": {
      "text/plain": [
       "[33, 49, 43, 28, 21]"
      ]
     },
     "execution_count": 8,
     "metadata": {},
     "output_type": "execute_result"
    }
   ],
   "source": [
    "generate_number(10, 50)"
   ]
  },
  {
   "cell_type": "code",
   "execution_count": 9,
   "id": "7d7f5f9d-4a6e-4411-a663-0df7b97b05e8",
   "metadata": {},
   "outputs": [
    {
     "ename": "TypeError",
     "evalue": "Lottery.generate_number() missing 1 required positional argument: 'minimum'",
     "output_type": "error",
     "traceback": [
      "\u001b[1;31m---------------------------------------------------------------------------\u001b[0m",
      "\u001b[1;31mTypeError\u001b[0m                                 Traceback (most recent call last)",
      "Cell \u001b[1;32mIn[9], line 4\u001b[0m\n\u001b[0;32m      1\u001b[0m \u001b[38;5;28;01mfrom\u001b[39;00m \u001b[38;5;21;01mLottery\u001b[39;00m \u001b[38;5;28;01mimport\u001b[39;00m \u001b[38;5;241m*\u001b[39m\n\u001b[0;32m      3\u001b[0m l \u001b[38;5;241m=\u001b[39m Lottery()\n\u001b[1;32m----> 4\u001b[0m l\u001b[38;5;241m.\u001b[39mgenerate_number()\n",
      "\u001b[1;31mTypeError\u001b[0m: Lottery.generate_number() missing 1 required positional argument: 'minimum'"
     ]
    }
   ],
   "source": [
    "from Lottery import *\n",
    "\n",
    "l = Lottery()\n",
    "l.generate_number()"
   ]
  },
  {
   "cell_type": "code",
   "execution_count": 20,
   "id": "8e2fafe4-3014-4a2d-8cea-3593dbd36d69",
   "metadata": {},
   "outputs": [],
   "source": [
    "from random import randint\n",
    "\n",
    "bnumber = []\n",
    "inumber = []\n",
    "nnumber = []\n",
    "gnumber = []\n",
    "onumber = []\n",
    "\n",
    "def generate_number(minimum, maximum, numberlist, draw_length=5):        \n",
    "    while len(numberlist) < draw_length:\n",
    "        randos = randint(minimum, maximum)\n",
    "    \n",
    "        if randos not in numberlist:\n",
    "            numberlist.append(randos)"
   ]
  },
  {
   "cell_type": "code",
   "execution_count": 21,
   "id": "41b3bfd1-9318-485d-82df-3157b5110b30",
   "metadata": {},
   "outputs": [
    {
     "name": "stdout",
     "output_type": "stream",
     "text": [
      "[7, 3, 6, 14, 8]\n",
      "[35, 36, 26, 24, 40]\n",
      "[57, 43, 42, 44, 59]\n",
      "[75, 65, 71, 68, 67]\n",
      "[87, 82, 83, 90, 84]\n"
     ]
    }
   ],
   "source": [
    "generate_number(1, 20, bnumber)\n",
    "generate_number(21, 40, inumber)\n",
    "generate_number(41, 60, nnumber)\n",
    "generate_number(61, 80, gnumber)\n",
    "generate_number(81, 90, onumber)\n",
    "\n",
    "print(bnumber)\n",
    "print(inumber)\n",
    "print(nnumber)\n",
    "print(gnumber)\n",
    "print(onumber)"
   ]
  },
  {
   "cell_type": "code",
   "execution_count": 22,
   "id": "fd7a7ca0-e82c-4366-a5c5-673448eac65a",
   "metadata": {},
   "outputs": [
    {
     "name": "stdout",
     "output_type": "stream",
     "text": [
      " B  I  N  G  O\n",
      " 7 35 57 75 87\n",
      " 3 36 43 65 82\n",
      " 6 26    71 83\n",
      "14 24 44 68 90\n",
      " 8 40 59 67 84\n"
     ]
    }
   ],
   "source": [
    "i = 0\n",
    "print(\" B  I  N  G  O\")\n",
    "while i < 5:\n",
    "    if i == 2:\n",
    "        print('{:2d}'.format(bnumber[i]), inumber[i], \"  \", gnumber[i], onumber[i])\n",
    "    else:\n",
    "        print('{:2d}'.format(bnumber[i]), inumber[i], nnumber[i], gnumber[i], onumber[i])\n",
    "    i += 1"
   ]
  },
  {
   "cell_type": "code",
   "execution_count": 23,
   "id": "981375d6-3c9b-4d7c-8026-d679096055d4",
   "metadata": {},
   "outputs": [
    {
     "name": "stdout",
     "output_type": "stream",
     "text": [
      "G 61\n"
     ]
    }
   ],
   "source": [
    "import random\n",
    "\n",
    "def generate_bingo():\n",
    "    alphabets = ['B', 'I', 'N', 'G', 'O']\n",
    "    randalp = random.choices(alphabets)[0]\n",
    "    \n",
    "    match randalp:\n",
    "        case 'B':\n",
    "            randnum = randint(1, 20)\n",
    "        case 'I':\n",
    "            randnum = randint(21, 40)\n",
    "        case 'N':\n",
    "            randnum = randint(41, 60)\n",
    "        case 'G':\n",
    "            randnum = randint(61, 80)\n",
    "        case 'O':\n",
    "            randnum = randint(81, 90)\n",
    "            \n",
    "    print(randalp, randnum)\n",
    "\n",
    "generate_bingo()"
   ]
  },
  {
   "cell_type": "code",
   "execution_count": null,
   "id": "5fd18d06-72dc-4a95-bc9b-ef29d762532d",
   "metadata": {},
   "outputs": [],
   "source": []
  }
 ],
 "metadata": {
  "kernelspec": {
   "display_name": "Python 3 (ipykernel)",
   "language": "python",
   "name": "python3"
  },
  "language_info": {
   "codemirror_mode": {
    "name": "ipython",
    "version": 3
   },
   "file_extension": ".py",
   "mimetype": "text/x-python",
   "name": "python",
   "nbconvert_exporter": "python",
   "pygments_lexer": "ipython3",
   "version": "3.11.7"
  }
 },
 "nbformat": 4,
 "nbformat_minor": 5
}
