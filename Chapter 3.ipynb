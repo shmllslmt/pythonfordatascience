{
 "cells": [
  {
   "cell_type": "code",
   "execution_count": 1,
   "id": "ecc84726-e7c3-4603-a7d6-da5eb4f4f935",
   "metadata": {},
   "outputs": [],
   "source": [
    "def printme(message):\n",
    "    \"This function prints whatever it is inside it\"\n",
    "    \n",
    "    print(message)"
   ]
  },
  {
   "cell_type": "code",
   "execution_count": 2,
   "id": "e0b7e1b2-e555-4f6d-b864-554d2cfce96b",
   "metadata": {},
   "outputs": [
    {
     "name": "stdout",
     "output_type": "stream",
     "text": [
      "Thank God It's Friday\n"
     ]
    }
   ],
   "source": [
    "printme(\"Thank God It's Friday\")"
   ]
  },
  {
   "cell_type": "code",
   "execution_count": 3,
   "id": "741380ff-06e9-438c-90d5-327d96eb8f37",
   "metadata": {},
   "outputs": [],
   "source": [
    "def changeme(mylist): \n",
    "    \"This changes a passed list\"\n",
    "    mylist = [1, 2, 3, 4]\n",
    "    print(\"Values that are inside mylist \" + str(mylist))  \n",
    "    return mylist"
   ]
  },
  {
   "cell_type": "code",
   "execution_count": 4,
   "id": "b36fa868-8035-4566-8d91-d634f0c21d3b",
   "metadata": {},
   "outputs": [
    {
     "name": "stdout",
     "output_type": "stream",
     "text": [
      "Original mylist values:  [10, 20, 30]\n",
      "Values that are inside mylist [1, 2, 3, 4]\n",
      "Values that are outside changeme [1, 2, 3, 4]\n"
     ]
    }
   ],
   "source": [
    "mylist = [10,20,30]\n",
    "print(\"Original mylist values: \", mylist)\n",
    "\n",
    "mylist = changeme(mylist)\n",
    "\n",
    "print(\"Values that are outside changeme \" + str(mylist))"
   ]
  },
  {
   "cell_type": "code",
   "execution_count": 5,
   "id": "a1d995b7-6fac-4eef-af37-76612b16afaf",
   "metadata": {},
   "outputs": [],
   "source": [
    "sum = lambda x, y, z: x+y+z\n",
    "sub = lambda x, y: x-y\n",
    "mul = lambda x, y: x*y\n",
    "div = lambda x, y: x/y"
   ]
  },
  {
   "cell_type": "code",
   "execution_count": 6,
   "id": "11738c3c-84f8-4801-ad68-ab02ff7e41b4",
   "metadata": {},
   "outputs": [
    {
     "name": "stdout",
     "output_type": "stream",
     "text": [
      "Total of 100, 50 and 300 is 450\n",
      "100 minus 50 is 50\n",
      "100 multiply 50 is 5000\n",
      "100 divide by 50 is 2.0\n"
     ]
    }
   ],
   "source": [
    "print(\"Total of 100, 50 and 300 is\", sum(100, 50, 300))\n",
    "print(\"100 minus 50 is\", sub(100, 50))\n",
    "print(\"100 multiply 50 is\", mul(100, 50))\n",
    "print(\"100 divide by 50 is\", div(100, 50))"
   ]
  },
  {
   "cell_type": "code",
   "execution_count": 11,
   "id": "dc1a3865-5913-43ee-8d41-e2868ffaae2e",
   "metadata": {},
   "outputs": [],
   "source": [
    "# The Lottery Exercise\n",
    "from random import randint\n",
    "\n",
    "def generate_number(minimum, maximum, draw_length=5):\n",
    "    lottery_num = []\n",
    "    \n",
    "    while len(lottery_num) < draw_length:\n",
    "        randos = randint(minimum, maximum)\n",
    "    \n",
    "        if randos not in lottery_num:\n",
    "            lottery_num.append(randos)\n",
    "            \n",
    "    return lottery_num"
   ]
  },
  {
   "cell_type": "code",
   "execution_count": 9,
   "id": "6adf76d5-197b-47d5-87aa-b3378e8daef0",
   "metadata": {},
   "outputs": [
    {
     "data": {
      "text/plain": [
       "[37, 48, 8, 26, 21]"
      ]
     },
     "execution_count": 9,
     "metadata": {},
     "output_type": "execute_result"
    }
   ],
   "source": [
    "generate_number(1, 50, 5)"
   ]
  },
  {
   "cell_type": "code",
   "execution_count": null,
   "id": "7d7f5f9d-4a6e-4411-a663-0df7b97b05e8",
   "metadata": {},
   "outputs": [],
   "source": []
  }
 ],
 "metadata": {
  "kernelspec": {
   "display_name": "Python 3 (ipykernel)",
   "language": "python",
   "name": "python3"
  },
  "language_info": {
   "codemirror_mode": {
    "name": "ipython",
    "version": 3
   },
   "file_extension": ".py",
   "mimetype": "text/x-python",
   "name": "python",
   "nbconvert_exporter": "python",
   "pygments_lexer": "ipython3",
   "version": "3.11.7"
  }
 },
 "nbformat": 4,
 "nbformat_minor": 5
}
