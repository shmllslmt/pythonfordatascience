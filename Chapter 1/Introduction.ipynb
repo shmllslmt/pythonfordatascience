{
 "cells": [
  {
   "cell_type": "code",
   "execution_count": 24,
   "id": "2d0a68be-8c32-4b89-b4dd-5773c953be09",
   "metadata": {},
   "outputs": [
    {
     "name": "stdin",
     "output_type": "stream",
     "text": [
      "What's your name? Sha\n"
     ]
    },
    {
     "name": "stdout",
     "output_type": "stream",
     "text": [
      "Hello, Sha\n"
     ]
    },
    {
     "name": "stdin",
     "output_type": "stream",
     "text": [
      "When's your year of birth? 1993\n"
     ]
    },
    {
     "name": "stdout",
     "output_type": "stream",
     "text": [
      "You are 31 years old\n",
      "Wow, you're not young anymore!\n"
     ]
    }
   ],
   "source": [
    "# variable / identifiers\n",
    "# data type is automatically assign based on values \n",
    "# type casting such as using str() or int()\n",
    "# input() to prompt input from user\n",
    "\n",
    "name = input(\"What's your name?\")\n",
    "print(\"Hello, \" + name)\n",
    "\n",
    "\n",
    "birthyear = input(\"When's your year of birth?\")\n",
    "age = 2024 - int(birthyear)\n",
    "print(\"You are \" + str(age) + \" years old\")\n",
    "\n",
    "# if-elif-else statement for selection or branching or decision-making\n",
    "# no {} required only :\n",
    "# indentation matters to represent the block of codes or suites \n",
    "if(age > 30):\n",
    "    print(\"Wow, you're not young anymore!\")\n",
    "elif(age == 30):\n",
    "    print(\"You're young and you're old X|\")\n",
    "else:\n",
    "    print(\"It's okay, you are still young\")"
   ]
  },
  {
   "cell_type": "code",
   "execution_count": 23,
   "id": "c12eac2f-e23e-49da-8e23-572cbfa453be",
   "metadata": {},
   "outputs": [
    {
     "name": "stdout",
     "output_type": "stream",
     "text": [
      "Student ID: xxxxxxxx Student Name: xxxxxxxx Programme: xxxxxxxx \n",
      "['Monday', 'Tuesday', 'Wednesday']\n"
     ]
    }
   ],
   "source": [
    "# separation of multi-line string using the + \\\n",
    "days = \"Student ID: xxxxxxxx \" + \\\n",
    "\"Student Name: xxxxxxxx \" + \\\n",
    "\"Programme: xxxxxxxx \"\n",
    "\n",
    "dayList = [\"Monday\", \n",
    "           \"Tuesday\", \n",
    "           \"Wednesday\"]\n",
    "\n",
    "print(days)\n",
    "print(dayList)"
   ]
  },
  {
   "cell_type": "code",
   "execution_count": null,
   "id": "689dfac9-6c29-4396-ac5d-af9aae9e7c9d",
   "metadata": {},
   "outputs": [],
   "source": []
  }
 ],
 "metadata": {
  "kernelspec": {
   "display_name": "Python 3 (ipykernel)",
   "language": "python",
   "name": "python3"
  },
  "language_info": {
   "codemirror_mode": {
    "name": "ipython",
    "version": 3
   },
   "file_extension": ".py",
   "mimetype": "text/x-python",
   "name": "python",
   "nbconvert_exporter": "python",
   "pygments_lexer": "ipython3",
   "version": "3.11.7"
  }
 },
 "nbformat": 4,
 "nbformat_minor": 5
}
