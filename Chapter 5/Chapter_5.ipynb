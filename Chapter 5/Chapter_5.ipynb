{
 "cells": [
  {
   "cell_type": "code",
   "execution_count": 10,
   "id": "dfba4b4b-23e4-4135-a98c-06b8f8eaa4bf",
   "metadata": {},
   "outputs": [
    {
     "name": "stdout",
     "output_type": "stream",
     "text": [
      "What is the name of the file?  franzkafka.txt\n",
      "What is the opening mode?  r+\n",
      "Is it closed?  False\n"
     ]
    }
   ],
   "source": [
    "quotes = open(\"franzkafka.txt\", \"r+\")\n",
    "print(\"What is the name of the file? \", quotes.name)\n",
    "print(\"What is the opening mode? \", quotes.mode)\n",
    "print(\"Is it closed? \", quotes.closed)"
   ]
  },
  {
   "cell_type": "code",
   "execution_count": 12,
   "id": "2dd9df7f-900d-4990-8516-1f997214f611",
   "metadata": {},
   "outputs": [
    {
     "name": "stdout",
     "output_type": "stream",
     "text": [
      "\n"
     ]
    }
   ],
   "source": [
    "text = quotes.read()\n",
    "print(text)"
   ]
  },
  {
   "cell_type": "code",
   "execution_count": 13,
   "id": "5aff8379-8458-45b9-960a-cdb6d510ee9f",
   "metadata": {},
   "outputs": [
    {
     "name": "stdout",
     "output_type": "stream",
     "text": [
      "Is it closed?  True\n"
     ]
    }
   ],
   "source": [
    "quotes.close()\n",
    "print(\"Is it closed? \", quotes.closed)"
   ]
  },
  {
   "cell_type": "code",
   "execution_count": 14,
   "id": "5292e794-433b-430e-92bb-670636785074",
   "metadata": {},
   "outputs": [],
   "source": [
    "newfile = open(\"newfile.txt\", \"w+\")\n",
    "newfile.write(\"Python is a great language!\\nPython is fun to learn!\\nI love Python <3\")\n",
    "newfile.close()"
   ]
  },
  {
   "cell_type": "code",
   "execution_count": 36,
   "id": "5f397388-f8bc-4df2-adbf-0df499ee3359",
   "metadata": {},
   "outputs": [
    {
     "name": "stdout",
     "output_type": "stream",
     "text": [
      "Number of Characters (excluding whitespace and punctuation):  486\n",
      "Number of Lines:  1\n",
      "Number of Words:  129\n",
      "Number of Sentences:  7\n"
     ]
    }
   ],
   "source": [
    "text_dict = {\n",
    "    'characters': 0,\n",
    "    'lines': 0,\n",
    "    'words': 0,\n",
    "    'sentences': 0\n",
    "}\n",
    "\n",
    "with open(\"franzkafka.txt\") as quotefile:\n",
    "    quotes = quotefile.read()\n",
    "    \n",
    "    strip = quotes.replace(\" \", \"\").replace(\"\\n\", \"\").replace(\".\", \"\").replace(\"'\", \"\").replace(\",\", \"\").replace(\"?\", \"\")\n",
    "    chars = list(strip)\n",
    "    \n",
    "    text_dict['characters'] = len(chars)\n",
    "    text_dict['lines'] = quotes.count(\"\\n\")+1\n",
    "    text_dict['words'] = len(quotes.split())\n",
    "    text_dict['sentences'] = quotes.count(\".\") + quotes.count(\"?\") + quotes.count(\"!\")\n",
    "    \n",
    "    print(\"Number of Characters (excluding whitespace and punctuation): \", text_dict['characters'])\n",
    "    print(\"Number of Lines: \", text_dict['lines'])\n",
    "    print(\"Number of Words: \", text_dict['words'])\n",
    "    print(\"Number of Sentences: \", text_dict['sentences'])"
   ]
  },
  {
   "cell_type": "code",
   "execution_count": 41,
   "id": "3f47b7ca-dec4-4030-95b6-eb4daf16e10f",
   "metadata": {},
   "outputs": [
    {
     "name": "stdin",
     "output_type": "stream",
     "text": [
      "Give me an adjective?  happy\n",
      "Give me a verb?  working\n",
      "Give a noun?  panda\n",
      "Give me another noun?  watch\n"
     ]
    }
   ],
   "source": [
    "adjective = input(\"Give me an adjective? \")\n",
    "verb = input(\"Give me a verb? \")\n",
    "noun = input(\"Give a noun? \")\n",
    "anothernoun = input(\"Give me another noun? \")\n",
    "\n",
    "with open(\"madlibs.txt\") as madlibsfile:\n",
    "    madlibs = madlibsfile.read()\n",
    "\n",
    "    madlibs = madlibs.replace(\"ADJECTIVE\", adjective).replace(\"VERB\", verb)\n",
    "\n",
    "    count = 1\n",
    "    newstring = \"\"\n",
    "    \n",
    "    split = madlibs.split()\n",
    "    for word in split:\n",
    "        if word == \"NOUN\" and count == 1:\n",
    "            word = word.replace(\"NOUN\", noun)\n",
    "            count += 1\n",
    "        else:\n",
    "            word = word.replace(\"NOUN\", anothernoun)\n",
    "\n",
    "        newstring += word + \" \"\n",
    "\n",
    "outputmadlibsfile = open(\"outputmadlibs.txt\", \"w+\")\n",
    "outputmadlibsfile.write(newstring)\n",
    "outputmadlibsfile.close()"
   ]
  },
  {
   "cell_type": "code",
   "execution_count": 59,
   "id": "0b400889-daa8-47d3-b017-81d1a40ce94e",
   "metadata": {},
   "outputs": [],
   "source": [
    "import csv\n",
    "\n",
    "populationFile = open(\"population_malaysia.csv\")\n",
    "populationReader = csv.reader(populationFile)\n",
    "populationData = list(populationReader)\n",
    "\n",
    "del populationData[0]\n",
    "\n",
    "gender = []\n",
    "ethnicity = []\n",
    "\n",
    "for data in populationData:\n",
    "    if data[1] not in gender:\n",
    "        gender.append(data[1])\n",
    "        \n",
    "    if data[3] not in ethnicity:\n",
    "        ethnicity.append(data[3])\n",
    "\n",
    "pop_dict = {\n",
    "    'gender_count': len(gender),\n",
    "    'gender': gender,\n",
    "    'ethnicity_count': len(ethnicity),\n",
    "    'ethnicity': ethnicity\n",
    "}\n",
    "\n",
    "popoutputfile = open(\"population_output.csv\", \"w\")\n",
    "popoutputwriter = csv.writer(popoutputfile)\n",
    "\n",
    "popoutputwriter.writerow(pop_dict.keys())\n",
    "popoutputwriter.writerow(pop_dict.values())\n",
    "popoutputfile.close()"
   ]
  },
  {
   "cell_type": "code",
   "execution_count": null,
   "id": "8b101d38-b13f-43a8-b1d0-91f594773c1c",
   "metadata": {},
   "outputs": [],
   "source": []
  }
 ],
 "metadata": {
  "kernelspec": {
   "display_name": "Python 3 (ipykernel)",
   "language": "python",
   "name": "python3"
  },
  "language_info": {
   "codemirror_mode": {
    "name": "ipython",
    "version": 3
   },
   "file_extension": ".py",
   "mimetype": "text/x-python",
   "name": "python",
   "nbconvert_exporter": "python",
   "pygments_lexer": "ipython3",
   "version": "3.11.7"
  }
 },
 "nbformat": 4,
 "nbformat_minor": 5
}
