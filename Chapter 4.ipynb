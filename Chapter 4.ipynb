{
 "cells": [
  {
   "cell_type": "code",
   "execution_count": 17,
   "id": "28571fbb-daa8-4f6d-9a4b-53095b3f001c",
   "metadata": {},
   "outputs": [
    {
     "name": "stdout",
     "output_type": "stream",
     "text": [
      "Original List 1 Items: \n",
      "physics\n",
      "chemistry\n",
      "1993\n",
      "1990\n",
      "1997\n",
      "2000\n",
      "\n",
      "New List 1 Items: \n",
      "physics\n",
      "chemistry\n",
      "biology\n"
     ]
    }
   ],
   "source": [
    "list1 = ['physics', 'chemistry', 1993, 1990, 1997, 2000]\n",
    "print(\"Original List 1 Items: \")\n",
    "for item in list1:\n",
    "    print(item)\n",
    "\n",
    "list1[2] = \"biology\"\n",
    "\n",
    "del list1[3:]\n",
    "\n",
    "print(\"\\nNew List 1 Items: \")\n",
    "for item in list1:\n",
    "    print(item)"
   ]
  },
  {
   "cell_type": "code",
   "execution_count": 19,
   "id": "b9802647-f359-41c3-ac61-4e68df0f2517",
   "metadata": {},
   "outputs": [
    {
     "name": "stdout",
     "output_type": "stream",
     "text": [
      "Tuple 1 Items: \n",
      "physics\n",
      "chemistry\n",
      "biology\n",
      "\n",
      "Tuple 2 Items:  ('mathematics', 'additional mathematics')\n",
      "\n",
      "Tuple 3 Items:  (1990, 1993, 1995, 1997, 1999)\n",
      "\n",
      "Tuple 4 Items:  ('physics', 'chemistry', 'biology', 'mathematics', 'additional mathematics', 'mathematics', 'additional mathematics', 1995, 1997, 1999)\n"
     ]
    }
   ],
   "source": [
    "tuple1 = ('physics', 'chemistry', \"biology\")\n",
    "print(\"Tuple 1 Items: \")\n",
    "for item in tuple1:\n",
    "    print(item)\n",
    "\n",
    "# This will produce an error\n",
    "# Because tuple is immutable (cannot change any of its elements' value)\n",
    "# tuple1[2] = \"biology\" \n",
    "# del tuple4[5]\n",
    "\n",
    "tuple2 = (\"mathematics\", \"additional mathematics\")\n",
    "tuple3 = (1990, 1993, 1995, 1997, 1999)\n",
    "tuple4 = tuple1 + (tuple2*2) + tuple3[2:]\n",
    "\n",
    "print(\"\\nTuple 2 Items: \", tuple2)\n",
    "print(\"\\nTuple 3 Items: \", tuple3)\n",
    "print(\"\\nTuple 4 Items: \", tuple4)"
   ]
  },
  {
   "cell_type": "code",
   "execution_count": 26,
   "id": "91d2996a-872a-4463-bf62-b13597661820",
   "metadata": {},
   "outputs": [
    {
     "name": "stdin",
     "output_type": "stream",
     "text": [
      "Enter the name for cat 1 (or enter nothing to stop):  Milo\n",
      "Enter the name for cat 2 (or enter nothing to stop):  Nescafe\n",
      "Enter the name for cat 3 (or enter nothing to stop):  Zus\n",
      "Enter the name for cat 4 (or enter nothing to stop):  Coffee Bean Tea Leaf\n",
      "Enter the name for cat 5 (or enter nothing to stop):  \n"
     ]
    },
    {
     "name": "stdout",
     "output_type": "stream",
     "text": [
      "The names of the cat are: \n",
      "Milo\n",
      "Nescafe\n",
      "Zus\n",
      "Coffee Bean Tea Leaf\n"
     ]
    }
   ],
   "source": [
    "# Write a program that prompts the user for cat names \n",
    "# and then displays the cat names. Use an iterative structure.\n",
    "\n",
    "cat_names = []\n",
    "\n",
    "while True:\n",
    "    name = input(\"Enter the name for cat \" + str(len(cat_names)+1) + \" (or enter nothing to stop): \")\n",
    "\n",
    "    if name == '':\n",
    "        break\n",
    "\n",
    "    cat_names.append(name)\n",
    "\n",
    "print(\"The names of the cat are: \")\n",
    "for cat in cat_names:\n",
    "    print(cat)"
   ]
  },
  {
   "cell_type": "code",
   "execution_count": 27,
   "id": "5c4b0aa7-835b-435b-a0f7-7b9c75cf1d57",
   "metadata": {},
   "outputs": [
    {
     "name": "stdin",
     "output_type": "stream",
     "text": [
      "\n",
      "Ask the Magic 8 Ball a question (or type 'quit' to exit):  Will everyone pass this subject?\n"
     ]
    },
    {
     "name": "stdout",
     "output_type": "stream",
     "text": [
      "Magic 8 Ball says: \n",
      "Ask again later\n"
     ]
    },
    {
     "name": "stdin",
     "output_type": "stream",
     "text": [
      "\n",
      "Ask the Magic 8 Ball a question (or type 'quit' to exit):  Will anyone need to resit for this subject?\n"
     ]
    },
    {
     "name": "stdout",
     "output_type": "stream",
     "text": [
      "Magic 8 Ball says: \n",
      "Ask again later\n"
     ]
    },
    {
     "name": "stdin",
     "output_type": "stream",
     "text": [
      "\n",
      "Ask the Magic 8 Ball a question (or type 'quit' to exit):  Will everyone pass this subject?\n"
     ]
    },
    {
     "name": "stdout",
     "output_type": "stream",
     "text": [
      "Magic 8 Ball says: \n",
      "Ask again later\n"
     ]
    },
    {
     "name": "stdin",
     "output_type": "stream",
     "text": [
      "\n",
      "Ask the Magic 8 Ball a question (or type 'quit' to exit):  Will everyone pass this subject?\n"
     ]
    },
    {
     "name": "stdout",
     "output_type": "stream",
     "text": [
      "Magic 8 Ball says: \n",
      "My reply is no\n"
     ]
    },
    {
     "name": "stdin",
     "output_type": "stream",
     "text": [
      "\n",
      "Ask the Magic 8 Ball a question (or type 'quit' to exit):  quit\n"
     ]
    },
    {
     "name": "stdout",
     "output_type": "stream",
     "text": [
      "Goodbye!\n"
     ]
    }
   ],
   "source": [
    "# Magcic 8 Ball 1 Sample\n",
    "import random\n",
    "\n",
    "def magic_8_ball():\n",
    "    responses = [\n",
    "        '\\nIt is certain',\n",
    "        '\\nIt is decidedly so',\n",
    "        '\\nYes definitely',\n",
    "        '\\nReply hazy try again',\n",
    "        '\\nAsk again later',\n",
    "        '\\nConcentrate and ask again',\n",
    "        '\\nMy reply is no',\n",
    "        '\\nOutlook not so good',\n",
    "        '\\nVery doubtful'\n",
    "    ]\n",
    "\n",
    "    while True:\n",
    "        question = input(\"\\nAsk the Magic 8 Ball a question (or type 'quit' to exit): \")\n",
    "\n",
    "        if question.lower() == 'quit':\n",
    "            print(\"Goodbye!\")\n",
    "            break\n",
    "\n",
    "        answer = random.choice(responses)\n",
    "        print(f\"Magic 8 Ball says: {answer}\")\n",
    "\n",
    "magic_8_ball()"
   ]
  },
  {
   "cell_type": "code",
   "execution_count": 29,
   "id": "67c4bf71-3999-42fe-8b46-6fe64f040cda",
   "metadata": {},
   "outputs": [
    {
     "name": "stdout",
     "output_type": "stream",
     "text": [
      "Ask any question\n"
     ]
    },
    {
     "name": "stdin",
     "output_type": "stream",
     "text": [
      " Will everyone pass this subject?\n"
     ]
    },
    {
     "name": "stdout",
     "output_type": "stream",
     "text": [
      "Very doubtful\n",
      "Ask any question\n"
     ]
    },
    {
     "name": "stdin",
     "output_type": "stream",
     "text": [
      " Will everyone pass this subject?\n"
     ]
    },
    {
     "name": "stdout",
     "output_type": "stream",
     "text": [
      "It is certain\n",
      "Ask any question\n"
     ]
    },
    {
     "name": "stdin",
     "output_type": "stream",
     "text": [
      " \n"
     ]
    }
   ],
   "source": [
    "# Magcic 8 Ball 2 Sample\n",
    "\n",
    "from random import randint\n",
    "\n",
    "Magic_8_Ball = [\"It is certain\",\"It is decidedly so\",\"Yes definitely\",\"Reply haze try again\",\"Ask again later\", \"Concentrate and ask again\",\"My reply is no\", \"'Outlook not so good\",\"Very doubtful\"]\n",
    "while True:\n",
    "    print(\"Ask any question\")\n",
    "    ans = input ()\n",
    "\n",
    "    maximum = len(Magic_8_Ball)\n",
    "    minimum = 0\n",
    "    randos = randint(0,len(Magic_8_Ball)-1)\n",
    "\n",
    "    if ans == \"\":\n",
    "        break\n",
    "\n",
    "    print(Magic_8_Ball[randos])"
   ]
  },
  {
   "cell_type": "code",
   "execution_count": 36,
   "id": "14a2550e-536a-4f47-a972-73f7e8dd3cad",
   "metadata": {},
   "outputs": [
    {
     "name": "stdout",
     "output_type": "stream",
     "text": [
      "apple, pen, apple, pineapple, and pen\n"
     ]
    }
   ],
   "source": [
    "# The Comma Code Exercise\n",
    "values = ['apple', 'pen', 'apple', 'pineapple', 'pen']\n",
    "new_string = ''\n",
    "last_index = len(values)-1\n",
    "index = 0\n",
    "\n",
    "for item in values:\n",
    "    if index == last_index:\n",
    "        new_string += 'and ' + item\n",
    "    else:\n",
    "        new_string += item + ', '\n",
    "    index += 1\n",
    "\n",
    "print(new_string)"
   ]
  },
  {
   "cell_type": "code",
   "execution_count": 54,
   "id": "792b3216-e817-45d1-939f-2d9155aea619",
   "metadata": {},
   "outputs": [
    {
     "name": "stdout",
     "output_type": "stream",
     "text": [
      "Name :  Milo\n",
      "Age :  20\n",
      "School :  Sunway University\n",
      "\n",
      "The keys in the dictionary are \n",
      "Name\n",
      "Age\n",
      "School\n",
      "Programme\n",
      "\n",
      "The values in the dictionary are \n",
      "Milo\n",
      "20\n",
      "Sunway University\n",
      "Bachelor of Software Engineering\n"
     ]
    }
   ],
   "source": [
    "dict = {'Name': 'Milo', 'Age': 20}\n",
    "# print('Name: ', dict['Name'])\n",
    "# print('Age: ', dict['Age'])\n",
    "\n",
    "dict['School'] = 'Southern University College'\n",
    "# print('Study At: ', dict['School'])\n",
    "\n",
    "dict['School'] = 'Sunway University'\n",
    "\n",
    "for k, v in dict.items():\n",
    "    print(k, \": \", v)\n",
    "\n",
    "print(\"\\nThe keys in the dictionary are \")\n",
    "dict['Programme'] = \"Bachelor of Software Engineering\"\n",
    "for key in dict.keys():\n",
    "    print(key)\n",
    "\n",
    "print(\"\\nThe values in the dictionary are \")\n",
    "for value in dict.values():\n",
    "    print(value)"
   ]
  },
  {
   "cell_type": "code",
   "execution_count": 55,
   "id": "b4d58a9d-abb4-4c53-a58f-1a381022f2a4",
   "metadata": {},
   "outputs": [
    {
     "name": "stdout",
     "output_type": "stream",
     "text": [
      "{'Name': 'Milo', 'School': 'Sunway University', 'Programme': 'Bachelor of Software Engineering'}\n"
     ]
    }
   ],
   "source": [
    "del dict['Age']\n",
    "print(dict)"
   ]
  },
  {
   "cell_type": "code",
   "execution_count": 56,
   "id": "fee967fd-7ea5-473d-b49e-47e3b0285f31",
   "metadata": {},
   "outputs": [
    {
     "name": "stdout",
     "output_type": "stream",
     "text": [
      "{}\n"
     ]
    }
   ],
   "source": [
    "dict.clear()\n",
    "print(dict)"
   ]
  },
  {
   "cell_type": "code",
   "execution_count": 57,
   "id": "1ff0ff6e-c180-4c51-8943-da1ed2c156db",
   "metadata": {},
   "outputs": [
    {
     "name": "stdout",
     "output_type": "stream",
     "text": [
      "<class 'dict'>\n"
     ]
    }
   ],
   "source": [
    "del dict\n",
    "print(dict)"
   ]
  },
  {
   "cell_type": "code",
   "execution_count": 60,
   "id": "4ea79fa6-9557-40b0-84ea-2a0a32ec96a1",
   "metadata": {},
   "outputs": [
    {
     "name": "stdin",
     "output_type": "stream",
     "text": [
      "Enter name for their birthday (or blank to quit):  Chan\n"
     ]
    },
    {
     "name": "stdout",
     "output_type": "stream",
     "text": [
      "June 28\n"
     ]
    },
    {
     "name": "stdin",
     "output_type": "stream",
     "text": [
      "Enter name for their birthday (or blank to quit):  Chew\n"
     ]
    },
    {
     "name": "stdout",
     "output_type": "stream",
     "text": [
      "Feb 21\n"
     ]
    },
    {
     "name": "stdin",
     "output_type": "stream",
     "text": [
      "Enter name for their birthday (or blank to quit):  Shamilla\n",
      "When is their birthday?  Dec 1\n",
      "Enter name for their birthday (or blank to quit):  Chong\n"
     ]
    },
    {
     "name": "stdout",
     "output_type": "stream",
     "text": [
      "Mar 21\n"
     ]
    },
    {
     "name": "stdin",
     "output_type": "stream",
     "text": [
      "Enter name for their birthday (or blank to quit):  \n"
     ]
    },
    {
     "name": "stdout",
     "output_type": "stream",
     "text": [
      "{'Chan': 'June 28', 'Chong': 'Mar 21', 'Chang': 'Jan 1', 'Chew': 'Feb 21', 'Chee': 'Dec 9', 'Shamilla': 'Dec 1'}\n"
     ]
    }
   ],
   "source": [
    "birthdays = {'Chan': 'June 28', 'Chong': 'Mar 21', 'Chang': 'Jan 1', 'Chew': 'Feb 21', 'Chee': 'Dec 9'}\n",
    "\n",
    "while True:\n",
    "    name = input(\"Enter name for their birthday (or blank to quit): \")\n",
    "\n",
    "    if name == '':\n",
    "        break\n",
    "\n",
    "    if name in birthdays.keys():\n",
    "        print(birthdays[name])\n",
    "    else:\n",
    "        birthdate = input(\"When is their birthday? \")\n",
    "        birthdays[name] = birthdate\n",
    "\n",
    "print(birthdays)"
   ]
  },
  {
   "cell_type": "code",
   "execution_count": 62,
   "id": "90de86f6-27ab-4d27-b676-80c135785628",
   "metadata": {},
   "outputs": [
    {
     "name": "stdout",
     "output_type": "stream",
     "text": [
      " |  | \n",
      "-+--+-\n",
      " |  | \n",
      "-+--+-\n",
      " |  | \n"
     ]
    }
   ],
   "source": [
    "ttt = {\n",
    "    'top-l': '', 'top-c': '', 'top-r': '',\n",
    "    'mid-l': '', 'mid-c': '', 'mid-r': '',\n",
    "    'bot-l': '', 'bot-c': '', 'bot-r': '',\n",
    "}\n",
    "\n",
    "def print_tile():\n",
    "    print(ttt['top-l'], '|', ttt['top-c'], '|', ttt['top-r'])\n",
    "    print('-+--+-')\n",
    "    print(ttt['mid-l'], '|', ttt['mid-c'], '|', ttt['mid-r'])\n",
    "    print('-+--+-')\n",
    "    print(ttt['bot-l'], '|', ttt['bot-c'], '|', ttt['bot-r'])\n",
    "\n",
    "print_tile()"
   ]
  },
  {
   "cell_type": "code",
   "execution_count": null,
   "id": "2f800e61-5625-4e90-af53-b30e7792b9e5",
   "metadata": {},
   "outputs": [],
   "source": []
  }
 ],
 "metadata": {
  "kernelspec": {
   "display_name": "Python 3 (ipykernel)",
   "language": "python",
   "name": "python3"
  },
  "language_info": {
   "codemirror_mode": {
    "name": "ipython",
    "version": 3
   },
   "file_extension": ".py",
   "mimetype": "text/x-python",
   "name": "python",
   "nbconvert_exporter": "python",
   "pygments_lexer": "ipython3",
   "version": "3.11.7"
  }
 },
 "nbformat": 4,
 "nbformat_minor": 5
}
